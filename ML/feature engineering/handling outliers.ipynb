{
 "cells": [
  {
   "cell_type": "markdown",
   "id": "abd69c37-7e0a-4089-919b-cbe5384b0449",
   "metadata": {},
   "source": [
    "# 5 number summery and box plot"
   ]
  },
  {
   "cell_type": "code",
   "execution_count": 1,
   "id": "a1f0c325-f87d-4267-b0e6-238f33dd83f0",
   "metadata": {},
   "outputs": [],
   "source": [
    "import numpy as np"
   ]
  },
  {
   "cell_type": "code",
   "execution_count": 2,
   "id": "ac4ed282-ff86-473a-bb7d-90069baac0cf",
   "metadata": {},
   "outputs": [],
   "source": [
    "lst_marks = [45, 32, 56, 75, 89, 54, 32, 89, 90, 87, 67, 54, 45, 98, 99, 67, 74]\n",
    "minimum, Q1, median, Q3, maximum = np.quantile(lst_marks, [0, 0.25, 0.50, 0.75, 1.0])"
   ]
  },
  {
   "cell_type": "code",
   "execution_count": 3,
   "id": "ee0de611-f194-453e-9b24-38ae35ec1d86",
   "metadata": {},
   "outputs": [
    {
     "data": {
      "text/plain": [
       "(32.0, 54.0, 67.0, 89.0, 99.0)"
      ]
     },
     "execution_count": 3,
     "metadata": {},
     "output_type": "execute_result"
    }
   ],
   "source": [
    "minimum, Q1, median, Q3, maximum"
   ]
  },
  {
   "cell_type": "code",
   "execution_count": 4,
   "id": "c95450f4-2662-48d6-ae2d-2b523d3cfa3a",
   "metadata": {},
   "outputs": [
    {
     "name": "stdout",
     "output_type": "stream",
     "text": [
      "35.0\n"
     ]
    }
   ],
   "source": [
    "IQR = Q3 - Q1\n",
    "print(IQR)"
   ]
  },
  {
   "cell_type": "code",
   "execution_count": 5,
   "id": "f7f75b2a-bca1-4656-817c-420befed6eac",
   "metadata": {},
   "outputs": [],
   "source": [
    "lower_fence = Q1 - 1.5 * (IQR)\n",
    "higher_fence = Q3 + 1.5 * (IQR)"
   ]
  },
  {
   "cell_type": "code",
   "execution_count": 6,
   "id": "c84e80cf-d734-4db9-9784-4de33f785b5d",
   "metadata": {},
   "outputs": [
    {
     "data": {
      "text/plain": [
       "(1.5, 141.5)"
      ]
     },
     "execution_count": 6,
     "metadata": {},
     "output_type": "execute_result"
    }
   ],
   "source": [
    "lower_fence, higher_fence"
   ]
  },
  {
   "cell_type": "code",
   "execution_count": 7,
   "id": "f2197359-827d-42c5-950d-9d7d8b4c87ce",
   "metadata": {},
   "outputs": [],
   "source": [
    "import seaborn as sns"
   ]
  },
  {
   "cell_type": "code",
   "execution_count": 10,
   "id": "9f004549-216e-43e2-a733-d0c1f88bedaf",
   "metadata": {},
   "outputs": [
    {
     "data": {
      "text/plain": [
       "<AxesSubplot: >"
      ]
     },
     "execution_count": 10,
     "metadata": {},
     "output_type": "execute_result"
    },
    {
     "data": {
      "image/png": "[encoded data removed]",
      "text/plain": [
       "<Figure size 640x480 with 1 Axes>"
      ]
     },
     "metadata": {},
     "output_type": "display_data"
    }
   ],
   "source": [
    "sns.boxplot(lst_marks, orient=\"h\")"
   ]
  },
  {
   "cell_type": "code",
   "execution_count": 13,
   "id": "16111fad-949a-4479-87f1-42062f18f99b",
   "metadata": {},
   "outputs": [],
   "source": [
    "lst_marks2 = [-80, 45, 32, 56, 75, 89, 54, 32, 89, 90, 87, 67, 54, 45, 98, 99, 67, 74, 180, 240]"
   ]
  },
  {
   "cell_type": "code",
   "execution_count": 14,
   "id": "01786f1c-c092-4698-b95b-8a69558a6b10",
   "metadata": {},
   "outputs": [
    {
     "data": {
      "text/plain": [
       "<AxesSubplot: >"
      ]
     },
     "execution_count": 14,
     "metadata": {},
     "output_type": "execute_result"
    },
    {
     "data": {
      "image/png": "[encoded data removed]",
      "text/plain": [
       "<Figure size 640x480 with 1 Axes>"
      ]
     },
     "metadata": {},
     "output_type": "display_data"
    }
   ],
   "source": [
    "sns.boxplot(lst_marks2, orient=\"h\")"
   ]
  },
  {
   "cell_type": "code",
   "execution_count": null,
   "id": "63694972-25d6-4d65-99af-23fa1bfd1b60",
   "metadata": {},
   "outputs": [],
   "source": []
  }
 ],
 "metadata": {
  "kernelspec": {
   "display_name": "Python 3 (ipykernel)",
   "language": "python",
   "name": "python3"
  },
  "language_info": {
   "codemirror_mode": {
    "name": "ipython",
    "version": 3
   },
   "file_extension": ".py",
   "mimetype": "text/x-python",
   "name": "python",
   "nbconvert_exporter": "python",
   "pygments_lexer": "ipython3",
   "version": "3.10.8"
  }
 },
 "nbformat": 4,
 "nbformat_minor": 5
}
