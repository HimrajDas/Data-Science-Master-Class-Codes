{
 "cells": [
  {
   "cell_type": "code",
   "execution_count": 1,
   "id": "2d86e38e",
   "metadata": {},
   "outputs": [],
   "source": [
    "import scipy.stats as stat\n",
    "import numpy"
   ]
  },
  {
   "cell_type": "code",
   "execution_count": 2,
   "id": "4cbce1ba",
   "metadata": {},
   "outputs": [],
   "source": [
    "# no of hours students study in a weekly basis\n",
    "# monday, tuesday, wednesday, thursday, friday, saturday, sunday\n",
    "\n",
    "expected_data = [8, 6, 7, 9, 6, 9, 7]\n",
    "observed_data = [7, 8, 6, 9, 9, 6, 7]"
   ]
  },
  {
   "cell_type": "code",
   "execution_count": 4,
   "id": "4286323d",
   "metadata": {},
   "outputs": [
    {
     "data": {
      "text/plain": [
       "(52, 52)"
      ]
     },
     "execution_count": 4,
     "metadata": {},
     "output_type": "execute_result"
    }
   ],
   "source": [
    "sum(expected_data), sum(observed_data)"
   ]
  },
  {
   "cell_type": "code",
   "execution_count": 5,
   "id": "edd96a93",
   "metadata": {},
   "outputs": [],
   "source": [
    "# Chi square Goodness of fit\n",
    "chisquare_test_stats, p_value = stat.chisquare(observed_data, expected_data)"
   ]
  },
  {
   "cell_type": "code",
   "execution_count": 7,
   "id": "2da0f213",
   "metadata": {},
   "outputs": [
    {
     "name": "stdout",
     "output_type": "stream",
     "text": [
      "3.4345238095238093\n"
     ]
    }
   ],
   "source": [
    "print(chisquare_test_stats)"
   ]
  },
  {
   "cell_type": "code",
   "execution_count": 8,
   "id": "e01c9b04",
   "metadata": {},
   "outputs": [
    {
     "name": "stdout",
     "output_type": "stream",
     "text": [
      "0.7526596580922865\n"
     ]
    }
   ],
   "source": [
    "print(p_value)"
   ]
  },
  {
   "cell_type": "code",
   "execution_count": 9,
   "id": "756c105c",
   "metadata": {},
   "outputs": [],
   "source": [
    "# Find the critical value\n",
    "significance = 0.05\n",
    "dof = len(expected_data) - 1\n",
    "critical_value = stat.chi2.ppf(1 - significance, dof)"
   ]
  },
  {
   "cell_type": "code",
   "execution_count": 10,
   "id": "f56dd528",
   "metadata": {},
   "outputs": [
    {
     "data": {
      "text/plain": [
       "12.591587243743977"
      ]
     },
     "execution_count": 10,
     "metadata": {},
     "output_type": "execute_result"
    }
   ],
   "source": [
    "critical_value"
   ]
  },
  {
   "cell_type": "code",
   "execution_count": 11,
   "id": "3d93dd67",
   "metadata": {},
   "outputs": [
    {
     "name": "stdout",
     "output_type": "stream",
     "text": [
      "Accept the null hypothesis\n"
     ]
    }
   ],
   "source": [
    "if chisquare_test_stats > critical_value:\n",
    "    print(\"Reject the null hypothesis\")\n",
    "else:\n",
    "    print(\"Accept the null hypothesis\")"
   ]
  },
  {
   "cell_type": "code",
   "execution_count": null,
   "id": "720a5809",
   "metadata": {},
   "outputs": [],
   "source": []
  }
 ],
 "metadata": {
  "kernelspec": {
   "display_name": "Python 3 (ipykernel)",
   "language": "python",
   "name": "python3"
  },
  "language_info": {
   "codemirror_mode": {
    "name": "ipython",
    "version": 3
   },
   "file_extension": ".py",
   "mimetype": "text/x-python",
   "name": "python",
   "nbconvert_exporter": "python",
   "pygments_lexer": "ipython3",
   "version": "3.10.6"
  }
 },
 "nbformat": 4,
 "nbformat_minor": 5
}
