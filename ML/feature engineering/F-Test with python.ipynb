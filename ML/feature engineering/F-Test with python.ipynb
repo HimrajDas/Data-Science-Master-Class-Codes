{
 "cells": [
  {
   "cell_type": "code",
   "execution_count": 1,
   "id": "d03b18bc",
   "metadata": {},
   "outputs": [],
   "source": [
    "# Evidence to show that the two population variance are not equal.\n",
    "# Check so we can come to conclusion whether one worker is better than the other.\n",
    "\n",
    "worker1= [18, 19, 22, 25, 27, 28, 41, 45, 51, 55]\n",
    "worker2= [14, 15, 15, 17, 18, 22, 25, 25, 27, 34]"
   ]
  },
  {
   "cell_type": "code",
   "execution_count": 2,
   "id": "68169cb2",
   "metadata": {},
   "outputs": [],
   "source": [
    "import numpy as np"
   ]
  },
  {
   "cell_type": "code",
   "execution_count": 3,
   "id": "1e35eecb",
   "metadata": {},
   "outputs": [],
   "source": [
    "f_test = np.var(worker1) / np.var(worker2)"
   ]
  },
  {
   "cell_type": "code",
   "execution_count": 4,
   "id": "ac8a6db7",
   "metadata": {},
   "outputs": [
    {
     "data": {
      "text/plain": [
       "4.387122002085506"
      ]
     },
     "execution_count": 4,
     "metadata": {},
     "output_type": "execute_result"
    }
   ],
   "source": [
    "f_test"
   ]
  },
  {
   "cell_type": "code",
   "execution_count": 5,
   "id": "953fd6f1",
   "metadata": {},
   "outputs": [],
   "source": [
    "# Degree of freedom\n",
    "dof1 = len(worker1) - 1\n",
    "dof2 = len(worker2) - 1\n",
    "significance_value = 0.05"
   ]
  },
  {
   "cell_type": "code",
   "execution_count": 6,
   "id": "fe589f72",
   "metadata": {},
   "outputs": [],
   "source": [
    "import scipy.stats as stat"
   ]
  },
  {
   "cell_type": "code",
   "execution_count": 7,
   "id": "541bf723",
   "metadata": {},
   "outputs": [],
   "source": [
    "critical_value = stat.f.ppf(q=1-significance_value, dfn=dof1, dfd=dof2)"
   ]
  },
  {
   "cell_type": "code",
   "execution_count": 8,
   "id": "d02acc9a",
   "metadata": {},
   "outputs": [
    {
     "name": "stdout",
     "output_type": "stream",
     "text": [
      "Reject the null hypothesis.\n"
     ]
    }
   ],
   "source": [
    "if f_test > critical_value:\n",
    "    print(\"Reject the null hypothesis.\")\n",
    "else:\n",
    "    print(\"Failed to reject the null hypothesis.\")"
   ]
  },
  {
   "cell_type": "code",
   "execution_count": null,
   "id": "8b5444f4",
   "metadata": {},
   "outputs": [],
   "source": []
  }
 ],
 "metadata": {
  "kernelspec": {
   "display_name": "Python 3 (ipykernel)",
   "language": "python",
   "name": "python3"
  },
  "language_info": {
   "codemirror_mode": {
    "name": "ipython",
    "version": 3
   },
   "file_extension": ".py",
   "mimetype": "text/x-python",
   "name": "python",
   "nbconvert_exporter": "python",
   "pygments_lexer": "ipython3",
   "version": "3.10.6"
  }
 },
 "nbformat": 4,
 "nbformat_minor": 5
}
