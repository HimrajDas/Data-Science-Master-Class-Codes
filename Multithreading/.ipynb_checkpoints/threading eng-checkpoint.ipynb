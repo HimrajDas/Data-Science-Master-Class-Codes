{
 "cells": [
  {
   "cell_type": "code",
   "execution_count": 1,
   "id": "61262719",
   "metadata": {},
   "outputs": [],
   "source": [
    "import threading"
   ]
  },
  {
   "cell_type": "code",
   "execution_count": 2,
   "id": "e3dd8452",
   "metadata": {},
   "outputs": [],
   "source": [
    "def test(id):\n",
    "    print(f\"This is my test {id}\")"
   ]
  },
  {
   "cell_type": "code",
   "execution_count": 3,
   "id": "c749db09",
   "metadata": {},
   "outputs": [
    {
     "name": "stdout",
     "output_type": "stream",
     "text": [
      "This is my test 10\n"
     ]
    }
   ],
   "source": [
    "test(10)"
   ]
  },
  {
   "cell_type": "code",
   "execution_count": 4,
   "id": "9478b8c8",
   "metadata": {},
   "outputs": [
    {
     "name": "stdout",
     "output_type": "stream",
     "text": [
      "This is my test 1\n"
     ]
    }
   ],
   "source": [
    "test(1)"
   ]
  },
  {
   "cell_type": "code",
   "execution_count": 5,
   "id": "e1b4c5a4",
   "metadata": {},
   "outputs": [
    {
     "name": "stdout",
     "output_type": "stream",
     "text": [
      "This is my test 5\n"
     ]
    }
   ],
   "source": [
    "test(5)"
   ]
  },
  {
   "cell_type": "code",
   "execution_count": 6,
   "id": "8938d9f5",
   "metadata": {},
   "outputs": [],
   "source": [
    "thred = [threading.Thread(target=test, args=(i,)) for i in [10, 1, 5]]"
   ]
  },
  {
   "cell_type": "code",
   "execution_count": 7,
   "id": "c9716a9e",
   "metadata": {},
   "outputs": [
    {
     "data": {
      "text/plain": [
       "[<Thread(Thread-5 (test), initial)>,\n",
       " <Thread(Thread-6 (test), initial)>,\n",
       " <Thread(Thread-7 (test), initial)>]"
      ]
     },
     "execution_count": 7,
     "metadata": {},
     "output_type": "execute_result"
    }
   ],
   "source": [
    "thred"
   ]
  },
  {
   "cell_type": "code",
   "execution_count": 8,
   "id": "c4392460",
   "metadata": {},
   "outputs": [
    {
     "name": "stdout",
     "output_type": "stream",
     "text": [
      "This is my test 10\n",
      "This is my test 1\n",
      "This is my test 5\n"
     ]
    }
   ],
   "source": [
    "for t in thred:\n",
    "    t.start()"
   ]
  },
  {
   "cell_type": "code",
   "execution_count": 9,
   "id": "1f07ae3e",
   "metadata": {},
   "outputs": [],
   "source": [
    "url_list = ['https://raw.githubusercontent.com/itsfoss/text-files/master/agatha.txt',\n",
    " 'https://raw.githubusercontent.com/itsfoss/text-files/master/sherlock.txt',\n",
    " 'https://raw.githubusercontent.com/itsfoss/text-files/master/sample_log_file.txt']"
   ]
  },
  {
   "cell_type": "code",
   "execution_count": 10,
   "id": "75d462c0",
   "metadata": {},
   "outputs": [],
   "source": [
    "import urllib.request\n",
    "\n",
    "def file_download(url, filename):\n",
    "    urllib.request.urlretrieve(url, filename)"
   ]
  },
  {
   "cell_type": "code",
   "execution_count": 11,
   "id": "4e64ddbe",
   "metadata": {},
   "outputs": [],
   "source": [
    "# file_download('https://raw.githubusercontent.com/itsfoss/text-files/master/agatha.txt', \"test1.txt\")"
   ]
  },
  {
   "cell_type": "code",
   "execution_count": 12,
   "id": "62152395",
   "metadata": {},
   "outputs": [],
   "source": [
    "data_file_list = [\"data1.txt\", \"data2.txt\", \"data3.txt\"]"
   ]
  },
  {
   "cell_type": "code",
   "execution_count": 13,
   "id": "65cb1988",
   "metadata": {},
   "outputs": [],
   "source": [
    "th1 = [threading.Thread(target=file_download, args=(url_list[i], data_file_list[i])) for i in range(len(url_list))]"
   ]
  },
  {
   "cell_type": "code",
   "execution_count": 14,
   "id": "4f801906",
   "metadata": {},
   "outputs": [
    {
     "data": {
      "text/plain": [
       "[<Thread(Thread-8 (file_download), initial)>,\n",
       " <Thread(Thread-9 (file_download), initial)>,\n",
       " <Thread(Thread-10 (file_download), initial)>]"
      ]
     },
     "execution_count": 14,
     "metadata": {},
     "output_type": "execute_result"
    }
   ],
   "source": [
    "th1"
   ]
  },
  {
   "cell_type": "code",
   "execution_count": 16,
   "id": "94dd081b",
   "metadata": {},
   "outputs": [
    {
     "ename": "RuntimeError",
     "evalue": "threads can only be started once",
     "output_type": "error",
     "traceback": [
      "\u001b[1;31m---------------------------------------------------------------------------\u001b[0m",
      "\u001b[1;31mRuntimeError\u001b[0m                              Traceback (most recent call last)",
      "Cell \u001b[1;32mIn [16], line 2\u001b[0m\n\u001b[0;32m      1\u001b[0m \u001b[38;5;28;01mfor\u001b[39;00m t \u001b[38;5;129;01min\u001b[39;00m th1:\n\u001b[1;32m----> 2\u001b[0m     \u001b[43mt\u001b[49m\u001b[38;5;241;43m.\u001b[39;49m\u001b[43mstart\u001b[49m\u001b[43m(\u001b[49m\u001b[43m)\u001b[49m\n",
      "File \u001b[1;32m~\\AppData\\Local\\Programs\\Python\\Python310\\lib\\threading.py:930\u001b[0m, in \u001b[0;36mThread.start\u001b[1;34m(self)\u001b[0m\n\u001b[0;32m    927\u001b[0m     \u001b[38;5;28;01mraise\u001b[39;00m \u001b[38;5;167;01mRuntimeError\u001b[39;00m(\u001b[38;5;124m\"\u001b[39m\u001b[38;5;124mthread.__init__() not called\u001b[39m\u001b[38;5;124m\"\u001b[39m)\n\u001b[0;32m    929\u001b[0m \u001b[38;5;28;01mif\u001b[39;00m \u001b[38;5;28mself\u001b[39m\u001b[38;5;241m.\u001b[39m_started\u001b[38;5;241m.\u001b[39mis_set():\n\u001b[1;32m--> 930\u001b[0m     \u001b[38;5;28;01mraise\u001b[39;00m \u001b[38;5;167;01mRuntimeError\u001b[39;00m(\u001b[38;5;124m\"\u001b[39m\u001b[38;5;124mthreads can only be started once\u001b[39m\u001b[38;5;124m\"\u001b[39m)\n\u001b[0;32m    932\u001b[0m \u001b[38;5;28;01mwith\u001b[39;00m _active_limbo_lock:\n\u001b[0;32m    933\u001b[0m     _limbo[\u001b[38;5;28mself\u001b[39m] \u001b[38;5;241m=\u001b[39m \u001b[38;5;28mself\u001b[39m\n",
      "\u001b[1;31mRuntimeError\u001b[0m: threads can only be started once"
     ]
    }
   ],
   "source": [
    "for t in th1:\n",
    "    t.start()"
   ]
  },
  {
   "cell_type": "code",
   "execution_count": 17,
   "id": "60e1a824",
   "metadata": {},
   "outputs": [
    {
     "data": {
      "text/plain": [
       "[<Thread(Thread-8 (file_download), stopped 12172)>,\n",
       " <Thread(Thread-9 (file_download), stopped 14736)>,\n",
       " <Thread(Thread-10 (file_download), stopped 9408)>]"
      ]
     },
     "execution_count": 17,
     "metadata": {},
     "output_type": "execute_result"
    }
   ],
   "source": [
    "th1"
   ]
  },
  {
   "cell_type": "code",
   "execution_count": 18,
   "id": "cba8f711",
   "metadata": {},
   "outputs": [],
   "source": [
    "import time"
   ]
  },
  {
   "cell_type": "code",
   "execution_count": 32,
   "id": "5e81243e",
   "metadata": {},
   "outputs": [],
   "source": [
    "def test2(x):\n",
    "    for i in range(1, 11):\n",
    "        print(f\"test1 print the value of {x} and print the value of {i}\")\n",
    "        time.sleep(1)"
   ]
  },
  {
   "cell_type": "code",
   "execution_count": 26,
   "id": "cc972402",
   "metadata": {},
   "outputs": [],
   "source": [
    "# test2(10)"
   ]
  },
  {
   "cell_type": "code",
   "execution_count": 34,
   "id": "652031c3",
   "metadata": {},
   "outputs": [],
   "source": [
    "th2 = [threading.Thread(target=test2, args=(i,)) for i in [10, 2, 6]]"
   ]
  },
  {
   "cell_type": "code",
   "execution_count": 35,
   "id": "565b0c33",
   "metadata": {},
   "outputs": [
    {
     "name": "stdout",
     "output_type": "stream",
     "text": [
      "test1 print the value of 10 and print the value of 1\n",
      "test1 print the value of 2 and print the value of 1\n",
      "test1 print the value of 6 and print the value of 1\n",
      "test1 print the value of 6 and print the value of 2test1 print the value of 2 and print the value of 2\n",
      "test1 print the value of 10 and print the value of 2\n",
      "\n",
      "test1 print the value of 6 and print the value of 3test1 print the value of 2 and print the value of 3\n",
      "test1 print the value of 10 and print the value of 3\n",
      "\n",
      "test1 print the value of 6 and print the value of 4test1 print the value of 2 and print the value of 4\n",
      "test1 print the value of 10 and print the value of 4\n",
      "\n",
      "test1 print the value of 2 and print the value of 5\n",
      "test1 print the value of 10 and print the value of 5\n",
      "test1 print the value of 6 and print the value of 5\n",
      "test1 print the value of 6 and print the value of 6test1 print the value of 2 and print the value of 6\n",
      "test1 print the value of 10 and print the value of 6\n",
      "\n",
      "test1 print the value of 10 and print the value of 7test1 print the value of 6 and print the value of 7\n",
      "test1 print the value of 2 and print the value of 7\n",
      "\n",
      "test1 print the value of 10 and print the value of 8test1 print the value of 6 and print the value of 8\n",
      "test1 print the value of 2 and print the value of 8\n",
      "\n",
      "test1 print the value of 6 and print the value of 9test1 print the value of 10 and print the value of 9\n",
      "test1 print the value of 2 and print the value of 9\n",
      "\n",
      "test1 print the value of 6 and print the value of 10test1 print the value of 2 and print the value of 10\n",
      "test1 print the value of 10 and print the value of 10\n",
      "\n"
     ]
    }
   ],
   "source": [
    "for t in th2:\n",
    "    t.start()"
   ]
  },
  {
   "cell_type": "code",
   "execution_count": 41,
   "id": "14d255c1",
   "metadata": {},
   "outputs": [],
   "source": [
    "shared_var = 0\n",
    "lock_var = threading.Lock()\n",
    "def test3(x):\n",
    "    global shared_var\n",
    "    with lock_var:\n",
    "        shared_var += 1\n",
    "        print(f\"value of {x} and value of shared var {shared_var}\")\n",
    "        time.sleep(1)\n",
    "thread4 = [threading.Thread(target=test3, args=(i,)) for i in [1, 2, 4, 5]]"
   ]
  },
  {
   "cell_type": "code",
   "execution_count": 42,
   "id": "96c1b859",
   "metadata": {},
   "outputs": [
    {
     "name": "stdout",
     "output_type": "stream",
     "text": [
      "value of 1 and value of shared var 1\n",
      "value of 2 and value of shared var 2\n",
      "value of 4 and value of shared var 3\n",
      "value of 5 and value of shared var 4\n"
     ]
    }
   ],
   "source": [
    "for i in thread4:\n",
    "    i.start()"
   ]
  },
  {
   "cell_type": "code",
   "execution_count": 39,
   "id": "1d9041cb",
   "metadata": {},
   "outputs": [
    {
     "name": "stdout",
     "output_type": "stream",
     "text": [
      "value of 1 and value of shared var 1\n"
     ]
    }
   ],
   "source": [
    "test3(1)"
   ]
  },
  {
   "cell_type": "code",
   "execution_count": 40,
   "id": "675ef0c4",
   "metadata": {},
   "outputs": [
    {
     "name": "stdout",
     "output_type": "stream",
     "text": [
      "value of 2 and value of shared var 2\n"
     ]
    }
   ],
   "source": [
    "test3(2)"
   ]
  },
  {
   "cell_type": "code",
   "execution_count": null,
   "id": "d42e64f4",
   "metadata": {},
   "outputs": [],
   "source": []
  }
 ],
 "metadata": {
  "kernelspec": {
   "display_name": "Python 3 (ipykernel)",
   "language": "python",
   "name": "python3"
  },
  "language_info": {
   "codemirror_mode": {
    "name": "ipython",
    "version": 3
   },
   "file_extension": ".py",
   "mimetype": "text/x-python",
   "name": "python",
   "nbconvert_exporter": "python",
   "pygments_lexer": "ipython3",
   "version": "3.10.6"
  }
 },
 "nbformat": 4,
 "nbformat_minor": 5
}
