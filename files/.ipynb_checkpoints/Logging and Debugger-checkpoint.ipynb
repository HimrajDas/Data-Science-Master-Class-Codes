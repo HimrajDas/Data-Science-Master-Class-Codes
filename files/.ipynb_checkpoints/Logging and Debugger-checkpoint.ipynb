{
 "cells": [
  {
   "cell_type": "code",
   "execution_count": 1,
   "id": "b44c8b28",
   "metadata": {},
   "outputs": [],
   "source": [
    "import logging"
   ]
  },
  {
   "cell_type": "code",
   "execution_count": 2,
   "id": "c4c08dc3",
   "metadata": {},
   "outputs": [],
   "source": [
    "logging.basicConfig(filename = \"test.log\", level = logging.INFO)"
   ]
  },
  {
   "cell_type": "code",
   "execution_count": 3,
   "id": "320088d7",
   "metadata": {},
   "outputs": [],
   "source": [
    "logging.info(\"this is my line of execution.\")"
   ]
  },
  {
   "cell_type": "code",
   "execution_count": 4,
   "id": "70f87854",
   "metadata": {},
   "outputs": [],
   "source": [
    "logging.error(\"this is my critical.\")"
   ]
  },
  {
   "cell_type": "code",
   "execution_count": 5,
   "id": "f4b62f52",
   "metadata": {},
   "outputs": [],
   "source": [
    "logging.critical(\"this is my critical.\")"
   ]
  },
  {
   "cell_type": "raw",
   "id": "01f8827b",
   "metadata": {},
   "source": [
    "logging level heirerchies:-\n",
    "\n",
    "1. NOSET\n",
    "2. DEBUG\n",
    "3. INFO\n",
    "4. WARNING\n",
    "5. ERROR\n",
    "6. CRITICAL"
   ]
  },
  {
   "cell_type": "code",
   "execution_count": 6,
   "id": "b17f489a",
   "metadata": {},
   "outputs": [],
   "source": [
    "logging.shutdown()"
   ]
  },
  {
   "cell_type": "code",
   "execution_count": 2,
   "id": "811caf10",
   "metadata": {},
   "outputs": [],
   "source": [
    "# This is not getting created Idk why?\n",
    "logging.basicConfig(filename=\"test1.log\", format='%(asctime)s %(message)s', level=logging.DEBUG)"
   ]
  },
  {
   "cell_type": "code",
   "execution_count": 3,
   "id": "a53dbe35",
   "metadata": {},
   "outputs": [],
   "source": [
    "logging.info(\"this is my info log\")"
   ]
  },
  {
   "cell_type": "code",
   "execution_count": 4,
   "id": "29be1a20",
   "metadata": {},
   "outputs": [],
   "source": [
    "logging.warning(\"this is my warning\")"
   ]
  },
  {
   "cell_type": "code",
   "execution_count": 20,
   "id": "87f6969b",
   "metadata": {},
   "outputs": [],
   "source": [
    "# with open('test1.log', 'w'):\n",
    "#     logging.basicConfig(filename=\"test1.log\", level=logging.DEBUG, format='%(asctime)s %(message)s')\n",
    "#     logging.debug('This is a debug message')"
   ]
  },
  {
   "cell_type": "code",
   "execution_count": 21,
   "id": "7fd0f820",
   "metadata": {},
   "outputs": [],
   "source": [
    "logging.shutdown()"
   ]
  },
  {
   "cell_type": "code",
   "execution_count": 5,
   "id": "3c3f83e1",
   "metadata": {},
   "outputs": [],
   "source": [
    "logging.basicConfig(filename=\"test3.log\", encoding=\"utf-8\",level=logging.DEBUG, format=\"%(asctime)s %(name) %(levelname) %(message)s\")"
   ]
  },
  {
   "cell_type": "code",
   "execution_count": 6,
   "id": "8cd7c96a",
   "metadata": {},
   "outputs": [],
   "source": [
    "# logging.info(\"this is my info log\")"
   ]
  },
  {
   "cell_type": "code",
   "execution_count": 7,
   "id": "149954c9",
   "metadata": {},
   "outputs": [],
   "source": [
    "l = [1, 2, 3, 4, [4, 5, 6], \"sudh\", \"kumar\"]"
   ]
  },
  {
   "cell_type": "code",
   "execution_count": 11,
   "id": "0e7c0273",
   "metadata": {
    "scrolled": false
   },
   "outputs": [],
   "source": [
    "l1_int = []\n",
    "l2_str = []\n",
    "\n",
    "for i in l:\n",
    "    logging.info(\"This is the start of my first for loop {}\".format(l))\n",
    "    logging.info(\"This is the value of i  am logging {}.\".format(i))\n",
    "    if type(i) == list:\n",
    "        for j in i:\n",
    "            logging.info(\"logging my j {j} and i is {i}\".format(i = i, j = j))\n",
    "            l1_int.append(j)\n",
    "    elif type(i) == int:\n",
    "        l1_int.append(i)\n",
    "    else:\n",
    "        if type(i) == str:\n",
    "            l2_str.append(i)\n",
    "            \n",
    "logging.info(\"this is my final result with all int {l1}, with all str {l2}\".format(l1=l1_int, l2=l2_str))"
   ]
  },
  {
   "cell_type": "code",
   "execution_count": 23,
   "id": "76737599",
   "metadata": {},
   "outputs": [
    {
     "data": {
      "text/plain": [
       "[1, 2, 3, 4, 4, 5, 6]"
      ]
     },
     "execution_count": 23,
     "metadata": {},
     "output_type": "execute_result"
    }
   ],
   "source": [
    "l1_int"
   ]
  },
  {
   "cell_type": "code",
   "execution_count": 24,
   "id": "9b4b6be1",
   "metadata": {},
   "outputs": [
    {
     "data": {
      "text/plain": [
       "['sudh', 'kumar']"
      ]
     },
     "execution_count": 24,
     "metadata": {},
     "output_type": "execute_result"
    }
   ],
   "source": [
    "l2_str"
   ]
  },
  {
   "cell_type": "code",
   "execution_count": null,
   "id": "0800a22c",
   "metadata": {},
   "outputs": [],
   "source": []
  },
  {
   "cell_type": "code",
   "execution_count": null,
   "id": "7413066b",
   "metadata": {},
   "outputs": [],
   "source": []
  }
 ],
 "metadata": {
  "kernelspec": {
   "display_name": "Python 3 (ipykernel)",
   "language": "python",
   "name": "python3"
  },
  "language_info": {
   "codemirror_mode": {
    "name": "ipython",
    "version": 3
   },
   "file_extension": ".py",
   "mimetype": "text/x-python",
   "name": "python",
   "nbconvert_exporter": "python",
   "pygments_lexer": "ipython3",
   "version": "3.10.6"
  }
 },
 "nbformat": 4,
 "nbformat_minor": 5
}
