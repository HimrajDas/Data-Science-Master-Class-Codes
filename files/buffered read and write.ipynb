{
 "cells": [
  {
   "cell_type": "code",
   "execution_count": 1,
   "id": "fb0e19aa",
   "metadata": {},
   "outputs": [],
   "source": [
    "import io"
   ]
  },
  {
   "cell_type": "code",
   "execution_count": 2,
   "id": "3c3aaf51",
   "metadata": {},
   "outputs": [],
   "source": [
    "with open(\"test4.txt\", \"wb\") as f:\n",
    "    file = io.BufferedWriter(f)\n",
    "    file.write(b\"This is my buffer write.\\n\")\n",
    "    file.write(b\"this is the second line.\")\n",
    "    file.flush()"
   ]
  },
  {
   "cell_type": "code",
   "execution_count": 4,
   "id": "efca9e47",
   "metadata": {},
   "outputs": [
    {
     "name": "stdout",
     "output_type": "stream",
     "text": [
      "b'This is my buffer write.\\nthis is the second line.'\n"
     ]
    }
   ],
   "source": [
    "with open(\"test4.txt\", \"rb\") as f:\n",
    "    file = io.BufferedReader(f)\n",
    "    data = file.read()\n",
    "    print(data)"
   ]
  },
  {
   "cell_type": "code",
   "execution_count": null,
   "id": "8e81e952",
   "metadata": {},
   "outputs": [],
   "source": []
  }
 ],
 "metadata": {
  "kernelspec": {
   "display_name": "Python 3 (ipykernel)",
   "language": "python",
   "name": "python3"
  },
  "language_info": {
   "codemirror_mode": {
    "name": "ipython",
    "version": 3
   },
   "file_extension": ".py",
   "mimetype": "text/x-python",
   "name": "python",
   "nbconvert_exporter": "python",
   "pygments_lexer": "ipython3",
   "version": "3.10.6"
  }
 },
 "nbformat": 4,
 "nbformat_minor": 5
}
