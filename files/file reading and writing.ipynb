{
 "cells": [
  {
   "cell_type": "code",
   "execution_count": 1,
   "id": "5aaac0f1",
   "metadata": {},
   "outputs": [],
   "source": [
    "data = {\n",
    "    \"name\": \"himraj\",\n",
    "    \"mail_id\": \"himrajdas@gmail.com\",\n",
    "    \"phone no\": 88291304,\n",
    "    \"subject\": [\"Data Science\", \"Maths\"],\n",
    "}"
   ]
  },
  {
   "cell_type": "code",
   "execution_count": 2,
   "id": "81fd6ea3",
   "metadata": {},
   "outputs": [],
   "source": [
    "import json"
   ]
  },
  {
   "cell_type": "code",
   "execution_count": 3,
   "id": "34ff2a02",
   "metadata": {},
   "outputs": [],
   "source": [
    "with open(\"test1.json\", \"w\") as f:\n",
    "    json.dump(data, f)"
   ]
  },
  {
   "cell_type": "code",
   "execution_count": 4,
   "id": "01431ee0",
   "metadata": {},
   "outputs": [],
   "source": [
    "with open(\"test1.json\", \"r\") as f:\n",
    "    data1 = json.load(f)"
   ]
  },
  {
   "cell_type": "code",
   "execution_count": 5,
   "id": "00269d09",
   "metadata": {},
   "outputs": [
    {
     "data": {
      "text/plain": [
       "{'name': 'himraj',\n",
       " 'mail_id': 'himrajdas@gmail.com',\n",
       " 'phone no': 88291304,\n",
       " 'subject': ['Data Science', 'Maths']}"
      ]
     },
     "execution_count": 5,
     "metadata": {},
     "output_type": "execute_result"
    }
   ],
   "source": [
    "data1"
   ]
  },
  {
   "cell_type": "code",
   "execution_count": 10,
   "id": "c3c11486",
   "metadata": {},
   "outputs": [],
   "source": [
    "data1 = [\n",
    "    [\"name\", \"email_id\", \"phone no\"],\n",
    "    [\"sudh\", \"sudh@gmail.com\", 9231434563],\n",
    "    [\"krish\", \"krish@gmail.com\", 734374889]\n",
    "]"
   ]
  },
  {
   "cell_type": "code",
   "execution_count": 7,
   "id": "57e0e84f",
   "metadata": {},
   "outputs": [],
   "source": [
    "import csv"
   ]
  },
  {
   "cell_type": "code",
   "execution_count": 11,
   "id": "609ac44f",
   "metadata": {},
   "outputs": [],
   "source": [
    "with open(\"test2.csv\", \"w\") as f:\n",
    "    w = csv.writer(f)\n",
    "    for i in data1:\n",
    "        w.writerow(i)"
   ]
  },
  {
   "cell_type": "code",
   "execution_count": 14,
   "id": "c9de2246",
   "metadata": {},
   "outputs": [
    {
     "name": "stdout",
     "output_type": "stream",
     "text": [
      "['name', 'email_id', 'phone no']\n",
      "['sudh', 'sudh@gmail.com', '9231434563']\n",
      "['krish', 'krish@gmail.com', '734374889']\n"
     ]
    }
   ],
   "source": [
    "with open(\"test2.csv\", \"r\") as f:\n",
    "    read = csv.reader(f)\n",
    "    for i in read:\n",
    "        print(i)"
   ]
  },
  {
   "cell_type": "code",
   "execution_count": 15,
   "id": "48e3c726",
   "metadata": {},
   "outputs": [],
   "source": [
    "with open(\"test3.bin\", \"wb\") as f:\n",
    "    f.write(b\"\\x01\\x02\\x03\")"
   ]
  },
  {
   "cell_type": "code",
   "execution_count": 16,
   "id": "31bb9366",
   "metadata": {},
   "outputs": [
    {
     "name": "stdout",
     "output_type": "stream",
     "text": [
      "b'\\x01\\x02\\x03'\n"
     ]
    }
   ],
   "source": [
    "with open(\"test3.bin\", \"rb\") as f:\n",
    "    print(f.read())"
   ]
  },
  {
   "cell_type": "code",
   "execution_count": null,
   "id": "6b3e2811",
   "metadata": {},
   "outputs": [],
   "source": []
  }
 ],
 "metadata": {
  "kernelspec": {
   "display_name": "Python 3 (ipykernel)",
   "language": "python",
   "name": "python3"
  },
  "language_info": {
   "codemirror_mode": {
    "name": "ipython",
    "version": 3
   },
   "file_extension": ".py",
   "mimetype": "text/x-python",
   "name": "python",
   "nbconvert_exporter": "python",
   "pygments_lexer": "ipython3",
   "version": "3.10.6"
  }
 },
 "nbformat": 4,
 "nbformat_minor": 5
}
